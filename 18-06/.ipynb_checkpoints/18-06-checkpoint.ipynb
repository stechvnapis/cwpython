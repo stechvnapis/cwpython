{
 "cells": [
  {
   "cell_type": "markdown",
   "metadata": {},
   "source": [
    "from IPython.core.interactiveshell import InteractiveShell\n",
    "InteractiveShell.ast_node_interactivity = \"all\""
   ]
  },
  {
   "cell_type": "markdown",
   "metadata": {},
   "source": [
    "## Iterator ( thêm)"
   ]
  },
  {
   "cell_type": "code",
   "execution_count": 135,
   "metadata": {},
   "outputs": [],
   "source": [
    "a = map(len,['asdd','sđs','sđ'])   # trong Python 3 , map là 1 iterator , iterator # iterable \n",
    "# iterators / generators dùng khi không cần tất cả dữ liệu cùng 1 lúc , không cần load tất cả dữ liệu vào \n",
    "# trong bộ nhớ , tiết kiệm bộ nhớ , đưa từng miếng nhỏ dữ liệu khi được đòi hỏi"
   ]
  },
  {
   "cell_type": "code",
   "execution_count": 136,
   "metadata": {},
   "outputs": [
    {
     "data": {
      "text/plain": [
       "True"
      ]
     },
     "execution_count": 136,
     "metadata": {},
     "output_type": "execute_result"
    },
    {
     "data": {
      "text/plain": [
       "True"
      ]
     },
     "execution_count": 136,
     "metadata": {},
     "output_type": "execute_result"
    },
    {
     "data": {
      "text/plain": [
       "[4, 3, 2]"
      ]
     },
     "execution_count": 136,
     "metadata": {},
     "output_type": "execute_result"
    },
    {
     "data": {
      "text/plain": [
       "[]"
      ]
     },
     "execution_count": 136,
     "metadata": {},
     "output_type": "execute_result"
    }
   ],
   "source": [
    "hasattr(a,'__next__')  # iterator có attribute này nhưng object như list , dict thì không\n",
    "hasattr(a,'__iter__') # -->iterable  - iterator cũng có attribute này\n",
    "list(a)\n",
    "list(a)"
   ]
  },
  {
   "cell_type": "code",
   "execution_count": 137,
   "metadata": {},
   "outputs": [],
   "source": [
    "# Python 3 # Python 2, ở Python 2 function map , range , dic.keys() , dic.values() trả về list\n",
    "# Python 3 thì map, enumerate , zip, reversed  là iterator ; range là lazy sequence,ko phải list,ko phải iterator"
   ]
  },
  {
   "cell_type": "code",
   "execution_count": 138,
   "metadata": {},
   "outputs": [],
   "source": [
    "a = enumerate(['asdd','sđs','sđ'])"
   ]
  },
  {
   "cell_type": "code",
   "execution_count": 139,
   "metadata": {},
   "outputs": [
    {
     "data": {
      "text/plain": [
       "True"
      ]
     },
     "execution_count": 139,
     "metadata": {},
     "output_type": "execute_result"
    },
    {
     "data": {
      "text/plain": [
       "True"
      ]
     },
     "execution_count": 139,
     "metadata": {},
     "output_type": "execute_result"
    },
    {
     "data": {
      "text/plain": [
       "[(0, 'asdd'), (1, 'sđs'), (2, 'sđ')]"
      ]
     },
     "execution_count": 139,
     "metadata": {},
     "output_type": "execute_result"
    },
    {
     "data": {
      "text/plain": [
       "[]"
      ]
     },
     "execution_count": 139,
     "metadata": {},
     "output_type": "execute_result"
    }
   ],
   "source": [
    "hasattr(a,'__next__')\n",
    "hasattr(a,'__iter__')\n",
    "list(a)\n",
    "list(a)"
   ]
  },
  {
   "cell_type": "code",
   "execution_count": 140,
   "metadata": {},
   "outputs": [],
   "source": [
    "a = zip(['asdd','sđs','sđ'],[1,2,3])"
   ]
  },
  {
   "cell_type": "code",
   "execution_count": 141,
   "metadata": {},
   "outputs": [
    {
     "data": {
      "text/plain": [
       "True"
      ]
     },
     "execution_count": 141,
     "metadata": {},
     "output_type": "execute_result"
    },
    {
     "data": {
      "text/plain": [
       "True"
      ]
     },
     "execution_count": 141,
     "metadata": {},
     "output_type": "execute_result"
    },
    {
     "data": {
      "text/plain": [
       "('asdd', 1)"
      ]
     },
     "execution_count": 141,
     "metadata": {},
     "output_type": "execute_result"
    },
    {
     "data": {
      "text/plain": [
       "('sđs', 2)"
      ]
     },
     "execution_count": 141,
     "metadata": {},
     "output_type": "execute_result"
    },
    {
     "data": {
      "text/plain": [
       "('sđ', 3)"
      ]
     },
     "execution_count": 141,
     "metadata": {},
     "output_type": "execute_result"
    },
    {
     "name": "stdout",
     "output_type": "stream",
     "text": [
      "StopIteration Caught!!\n"
     ]
    }
   ],
   "source": [
    "hasattr(a,'__next__')\n",
    "hasattr(a,'__iter__')\n",
    "try :\n",
    "    next(a)\n",
    "    next(a)\n",
    "    next(a)\n",
    "    next(a)\n",
    "except StopIteration:\n",
    "    print('StopIteration Caught!!')"
   ]
  },
  {
   "cell_type": "code",
   "execution_count": 142,
   "metadata": {},
   "outputs": [],
   "source": [
    "a = reversed([1,2,3])"
   ]
  },
  {
   "cell_type": "code",
   "execution_count": 143,
   "metadata": {},
   "outputs": [
    {
     "data": {
      "text/plain": [
       "True"
      ]
     },
     "execution_count": 143,
     "metadata": {},
     "output_type": "execute_result"
    },
    {
     "data": {
      "text/plain": [
       "True"
      ]
     },
     "execution_count": 143,
     "metadata": {},
     "output_type": "execute_result"
    },
    {
     "data": {
      "text/plain": [
       "[3, 2, 1]"
      ]
     },
     "execution_count": 143,
     "metadata": {},
     "output_type": "execute_result"
    },
    {
     "data": {
      "text/plain": [
       "[]"
      ]
     },
     "execution_count": 143,
     "metadata": {},
     "output_type": "execute_result"
    }
   ],
   "source": [
    "hasattr(a,'__next__')\n",
    "hasattr(a,'__iter__')\n",
    "list(a)\n",
    "list(a)"
   ]
  },
  {
   "cell_type": "code",
   "execution_count": 144,
   "metadata": {},
   "outputs": [],
   "source": [
    "dict_iterator = iter({'a':1,'b':2})"
   ]
  },
  {
   "cell_type": "code",
   "execution_count": 145,
   "metadata": {},
   "outputs": [
    {
     "data": {
      "text/plain": [
       "['a', 'b']"
      ]
     },
     "execution_count": 145,
     "metadata": {},
     "output_type": "execute_result"
    },
    {
     "data": {
      "text/plain": [
       "[]"
      ]
     },
     "execution_count": 145,
     "metadata": {},
     "output_type": "execute_result"
    }
   ],
   "source": [
    "list(dict_iterator)\n",
    "list(dict_iterator)"
   ]
  },
  {
   "cell_type": "code",
   "execution_count": 146,
   "metadata": {},
   "outputs": [],
   "source": [
    "a = range(5) # range lazy but not an iterator   , range ở python 2 là kiểu list , ko lazy"
   ]
  },
  {
   "cell_type": "code",
   "execution_count": 147,
   "metadata": {},
   "outputs": [
    {
     "data": {
      "text/plain": [
       "False"
      ]
     },
     "execution_count": 147,
     "metadata": {},
     "output_type": "execute_result"
    },
    {
     "data": {
      "text/plain": [
       "True"
      ]
     },
     "execution_count": 147,
     "metadata": {},
     "output_type": "execute_result"
    },
    {
     "data": {
      "text/plain": [
       "[0, 1, 2, 3, 4]"
      ]
     },
     "execution_count": 147,
     "metadata": {},
     "output_type": "execute_result"
    },
    {
     "data": {
      "text/plain": [
       "[0, 1, 2, 3, 4]"
      ]
     },
     "execution_count": 147,
     "metadata": {},
     "output_type": "execute_result"
    }
   ],
   "source": [
    "hasattr(a,'__next__')\n",
    "hasattr(a,'__iter__')\n",
    "list(a)\n",
    "list(a)"
   ]
  },
  {
   "cell_type": "markdown",
   "metadata": {},
   "source": [
    "## Partial Argument Application (thêm ví dụ)"
   ]
  },
  {
   "cell_type": "code",
   "execution_count": 148,
   "metadata": {},
   "outputs": [],
   "source": [
    "def calc(x,y,z):\n",
    "    return 3*x + 2*y +z;\n",
    "\n",
    "from functools import partial"
   ]
  },
  {
   "cell_type": "code",
   "execution_count": 149,
   "metadata": {},
   "outputs": [
    {
     "data": {
      "text/plain": [
       "12"
      ]
     },
     "execution_count": 149,
     "metadata": {},
     "output_type": "execute_result"
    }
   ],
   "source": [
    "calc_1_2 = partial(calc,1,2)\n",
    "calc_1_2(5)"
   ]
  },
  {
   "cell_type": "code",
   "execution_count": 150,
   "metadata": {},
   "outputs": [],
   "source": [
    "calc_1___2 = partial(calc,1,z=2)"
   ]
  },
  {
   "cell_type": "code",
   "execution_count": 151,
   "metadata": {},
   "outputs": [
    {
     "data": {
      "text/plain": [
       "17"
      ]
     },
     "execution_count": 151,
     "metadata": {},
     "output_type": "execute_result"
    }
   ],
   "source": [
    "calc_1___2(6)"
   ]
  },
  {
   "cell_type": "code",
   "execution_count": 152,
   "metadata": {},
   "outputs": [],
   "source": [
    "calc___1_2 = partial(calc,y=1,z=2)"
   ]
  },
  {
   "cell_type": "code",
   "execution_count": 153,
   "metadata": {},
   "outputs": [
    {
     "data": {
      "text/plain": [
       "16"
      ]
     },
     "execution_count": 153,
     "metadata": {},
     "output_type": "execute_result"
    }
   ],
   "source": [
    "calc___1_2(4)"
   ]
  },
  {
   "cell_type": "code",
   "execution_count": 154,
   "metadata": {},
   "outputs": [],
   "source": [
    "calc___2___= partial(calc,y=2)"
   ]
  },
  {
   "cell_type": "code",
   "execution_count": 155,
   "metadata": {},
   "outputs": [
    {
     "data": {
      "text/plain": [
       "22"
      ]
     },
     "execution_count": 155,
     "metadata": {},
     "output_type": "execute_result"
    }
   ],
   "source": [
    "calc___2___(5,z=3)"
   ]
  },
  {
   "cell_type": "markdown",
   "metadata": {},
   "source": [
    "## Exception (thêm ví dụ)"
   ]
  },
  {
   "cell_type": "code",
   "execution_count": 33,
   "metadata": {},
   "outputs": [
    {
     "name": "stdout",
     "output_type": "stream",
     "text": [
      "lỗi tham số apple :  apple exception\n"
     ]
    }
   ],
   "source": [
    "def func( fruit ): \n",
    "    if fruit == 'apple':\n",
    "        raise Exception(fruit+\" exception\")\n",
    "        # Code sau đây ko thực thi\n",
    "        print('--')\n",
    "    return\n",
    "\n",
    "try:\n",
    "    r = func('apple')\n",
    "    print (\"fruit = \",r)\n",
    "except Exception as e:\n",
    "    print(\"lỗi tham số apple : \",e.args[0])\n"
   ]
  },
  {
   "cell_type": "markdown",
   "metadata": {},
   "source": [
    "## Classes and Objects"
   ]
  },
  {
   "cell_type": "code",
   "execution_count": 34,
   "metadata": {},
   "outputs": [],
   "source": [
    "class Sinh_vien:\n",
    "    'Lớp chung cho tất cả sinh viên'\n",
    "    svCount = 0\n",
    "\n",
    "    def __init__(self, ho_ten, nganh_hoc):\n",
    "        self.ho_ten = ho_ten\n",
    "        self.nganh_hoc = nganh_hoc\n",
    "        Sinh_vien.svCount += 1\n",
    "   \n",
    "    def hienthiCount(self):\n",
    "        print (\"Tổng sinh viên %d\" % Sinh_vien.svCount)\n",
    "\n",
    "    def hienthiSinhvien(self):\n",
    "        print (\"Họ tên : \", self.ho_ten,  \", Ngành học: \", self.nganh_hoc)"
   ]
  },
  {
   "cell_type": "code",
   "execution_count": 35,
   "metadata": {},
   "outputs": [],
   "source": [
    "sv1 = Sinh_vien(\"Nguyễn Văn A\",\"Công nghệ thông tin\")\n",
    "sv2 = Sinh_vien(\"Trần Văn B\",\"Toán\")"
   ]
  },
  {
   "cell_type": "code",
   "execution_count": 36,
   "metadata": {},
   "outputs": [
    {
     "name": "stdout",
     "output_type": "stream",
     "text": [
      "Họ tên :  Nguyễn Văn A , Ngành học:  Công nghệ thông tin\n"
     ]
    }
   ],
   "source": [
    "sv1.hienthiSinhvien()"
   ]
  },
  {
   "cell_type": "code",
   "execution_count": 37,
   "metadata": {},
   "outputs": [
    {
     "name": "stdout",
     "output_type": "stream",
     "text": [
      "Họ tên :  Trần Văn B , Ngành học:  Toán\n"
     ]
    }
   ],
   "source": [
    "sv2.hienthiSinhvien()"
   ]
  },
  {
   "cell_type": "code",
   "execution_count": 38,
   "metadata": {},
   "outputs": [
    {
     "name": "stdout",
     "output_type": "stream",
     "text": [
      "Tổng sinh viên : 2 \n"
     ]
    }
   ],
   "source": [
    "print('Tổng sinh viên : %d ' % Sinh_vien.svCount)"
   ]
  },
  {
   "cell_type": "code",
   "execution_count": 39,
   "metadata": {},
   "outputs": [
    {
     "name": "stdout",
     "output_type": "stream",
     "text": [
      "Tổng sinh viên 2\n"
     ]
    }
   ],
   "source": [
    "sv1.hienthiCount()"
   ]
  },
  {
   "cell_type": "code",
   "execution_count": 40,
   "metadata": {},
   "outputs": [],
   "source": [
    "sv1.age = 20\n",
    "sv1.name = \"Nguyễn Văn B\""
   ]
  },
  {
   "cell_type": "code",
   "execution_count": 41,
   "metadata": {},
   "outputs": [
    {
     "data": {
      "text/plain": [
       "True"
      ]
     },
     "execution_count": 41,
     "metadata": {},
     "output_type": "execute_result"
    }
   ],
   "source": [
    "hasattr(sv1,'name')"
   ]
  },
  {
   "cell_type": "code",
   "execution_count": 42,
   "metadata": {},
   "outputs": [
    {
     "data": {
      "text/plain": [
       "'Nguyễn Văn B'"
      ]
     },
     "execution_count": 42,
     "metadata": {},
     "output_type": "execute_result"
    }
   ],
   "source": [
    "getattr(sv1,'name')"
   ]
  },
  {
   "cell_type": "code",
   "execution_count": 43,
   "metadata": {},
   "outputs": [],
   "source": [
    "setattr(sv1,'nganh_hoc','CNTT')"
   ]
  },
  {
   "cell_type": "code",
   "execution_count": 44,
   "metadata": {},
   "outputs": [
    {
     "name": "stdout",
     "output_type": "stream",
     "text": [
      "Họ tên :  Nguyễn Văn A , Ngành học:  CNTT\n"
     ]
    }
   ],
   "source": [
    "sv1.hienthiSinhvien()"
   ]
  },
  {
   "cell_type": "code",
   "execution_count": 45,
   "metadata": {},
   "outputs": [
    {
     "name": "stdout",
     "output_type": "stream",
     "text": [
      "Sinh_vien.__doc__: Lớp chung cho tất cả sinh viên\n",
      "Sinh_vien.__name__: Sinh_vien\n",
      "Sinh_vien.__module__: __main__\n"
     ]
    }
   ],
   "source": [
    "# Built-in class attributes (more if you want to know check online)\n",
    "print (\"Sinh_vien.__doc__:\", Sinh_vien.__doc__)\n",
    "print (\"Sinh_vien.__name__:\", Sinh_vien.__name__)\n",
    "print (\"Sinh_vien.__module__:\", Sinh_vien.__module__)"
   ]
  },
  {
   "cell_type": "code",
   "execution_count": 19,
   "metadata": {},
   "outputs": [
    {
     "name": "stdout",
     "output_type": "stream",
     "text": [
      "Line object destroyed\n",
      "2170605731968 2170605731968\n"
     ]
    }
   ],
   "source": [
    "class Line:\n",
    "    \n",
    "    def __init__( self, x1=0, y1=0,x2=1,y2=1):\n",
    "        self.x1 = x1\n",
    "        self.y1 = y1\n",
    "        self.x2 = x2\n",
    "        self.y2 = y2\n",
    "    \n",
    "    def __del__(self):\n",
    "        class_name = self.__class__.__name__\n",
    "        print (class_name, \"object destroyed\")\n",
    "\n",
    "ln1 = Line()\n",
    "ln2 = ln1 \n",
    "print(id(ln1),id(ln2))"
   ]
  },
  {
   "cell_type": "code",
   "execution_count": 20,
   "metadata": {},
   "outputs": [],
   "source": [
    "del ln1"
   ]
  },
  {
   "cell_type": "code",
   "execution_count": 21,
   "metadata": {},
   "outputs": [
    {
     "name": "stdout",
     "output_type": "stream",
     "text": [
      "Line object destroyed\n"
     ]
    }
   ],
   "source": [
    "del ln2"
   ]
  },
  {
   "cell_type": "code",
   "execution_count": 22,
   "metadata": {},
   "outputs": [],
   "source": [
    "## Classes inheritance (thừa kế của lớp)\n",
    "class Animal:    \n",
    "    animalAttr = 1\n",
    "    def __init__(self):\n",
    "        print (\"Calling animal constructor\")\n",
    "\n",
    "    def animalMethod(self):\n",
    "        print ('Calling animal method')\n",
    "\n",
    "    def setAttr(self, attr):\n",
    "        Animal.animalAttr = attr\n",
    "        \n",
    "    def move(self):\n",
    "        print('Animal move')\n",
    "\n",
    "    def getAttr(self):\n",
    "        print (\"Animal attribute :\", Animal.animalAttr)\n",
    "\n",
    "class Dog(Animal): # define child class   # you can do multiple parent classes : class C(A, B): \n",
    "\n",
    "    def __init__(self):\n",
    "        print (\"Calling dog constructor\")\n",
    "\n",
    "    def dogMethod(self):\n",
    "        print ('Calling dog method')\n",
    "        \n",
    "    def move(self):\n",
    "        print('Dog move')\n",
    "        "
   ]
  },
  {
   "cell_type": "code",
   "execution_count": 23,
   "metadata": {},
   "outputs": [
    {
     "name": "stdout",
     "output_type": "stream",
     "text": [
      "Calling dog constructor\n",
      "Calling dog method\n",
      "Calling animal method\n"
     ]
    }
   ],
   "source": [
    "dog1 = Dog()\n",
    "dog1.dogMethod()\n",
    "dog1.animalMethod()"
   ]
  },
  {
   "cell_type": "code",
   "execution_count": 24,
   "metadata": {},
   "outputs": [],
   "source": [
    "dog1.setAttr(2)"
   ]
  },
  {
   "cell_type": "code",
   "execution_count": 25,
   "metadata": {},
   "outputs": [
    {
     "name": "stdout",
     "output_type": "stream",
     "text": [
      "Animal attribute : 2\n"
     ]
    }
   ],
   "source": [
    "dog1.getAttr()"
   ]
  },
  {
   "cell_type": "code",
   "execution_count": 26,
   "metadata": {},
   "outputs": [
    {
     "data": {
      "text/plain": [
       "True"
      ]
     },
     "execution_count": 26,
     "metadata": {},
     "output_type": "execute_result"
    }
   ],
   "source": [
    "issubclass(Dog,Animal)"
   ]
  },
  {
   "cell_type": "code",
   "execution_count": 27,
   "metadata": {},
   "outputs": [
    {
     "data": {
      "text/plain": [
       "True"
      ]
     },
     "execution_count": 27,
     "metadata": {},
     "output_type": "execute_result"
    }
   ],
   "source": [
    "isinstance(dog1,Animal)"
   ]
  },
  {
   "cell_type": "code",
   "execution_count": 28,
   "metadata": {},
   "outputs": [
    {
     "name": "stdout",
     "output_type": "stream",
     "text": [
      "Dog move\n"
     ]
    }
   ],
   "source": [
    "dog1.move()"
   ]
  },
  {
   "cell_type": "code",
   "execution_count": 29,
   "metadata": {},
   "outputs": [],
   "source": [
    "class ExampleClass:\n",
    "    \"\"\"Example class\"\"\"\n",
    "    c = 1234\n",
    "    __secret = \"123\"\n",
    "    def f(self):\n",
    "        return 'hello'\n",
    "    \n",
    "    @classmethod\n",
    "    def fc(cls,a):\n",
    "        print(str(cls.c)+ a)\n",
    "    \n",
    "    @staticmethod\n",
    "    def fs(a,b):\n",
    "        return 2*a +b "
   ]
  },
  {
   "cell_type": "code",
   "execution_count": 30,
   "metadata": {},
   "outputs": [],
   "source": [
    "a = ExampleClass()"
   ]
  },
  {
   "cell_type": "code",
   "execution_count": 31,
   "metadata": {},
   "outputs": [
    {
     "ename": "AttributeError",
     "evalue": "'ExampleClass' object has no attribute '__secret'",
     "output_type": "error",
     "traceback": [
      "\u001b[1;31m---------------------------------------------------------------------------\u001b[0m",
      "\u001b[1;31mAttributeError\u001b[0m                            Traceback (most recent call last)",
      "\u001b[1;32m<ipython-input-31-1274b3ebe29d>\u001b[0m in \u001b[0;36m<module>\u001b[1;34m()\u001b[0m\n\u001b[1;32m----> 1\u001b[1;33m \u001b[0ma\u001b[0m\u001b[1;33m.\u001b[0m\u001b[0m__secret\u001b[0m\u001b[1;33m\u001b[0m\u001b[0m\n\u001b[0m",
      "\u001b[1;31mAttributeError\u001b[0m: 'ExampleClass' object has no attribute '__secret'"
     ]
    }
   ],
   "source": [
    "a.__secret"
   ]
  },
  {
   "cell_type": "code",
   "execution_count": 32,
   "metadata": {},
   "outputs": [
    {
     "data": {
      "text/plain": [
       "'123'"
      ]
     },
     "execution_count": 32,
     "metadata": {},
     "output_type": "execute_result"
    }
   ],
   "source": [
    "a._ExampleClass__secret"
   ]
  },
  {
   "cell_type": "code",
   "execution_count": null,
   "metadata": {},
   "outputs": [],
   "source": []
  }
 ],
 "metadata": {
  "kernelspec": {
   "display_name": "Python 3",
   "language": "python",
   "name": "python3"
  },
  "language_info": {
   "codemirror_mode": {
    "name": "ipython",
    "version": 3
   },
   "file_extension": ".py",
   "mimetype": "text/x-python",
   "name": "python",
   "nbconvert_exporter": "python",
   "pygments_lexer": "ipython3",
   "version": "3.6.4"
  }
 },
 "nbformat": 4,
 "nbformat_minor": 2
}
