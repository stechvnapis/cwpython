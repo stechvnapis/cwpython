{
 "cells": [
  {
   "cell_type": "code",
   "execution_count": 29,
   "metadata": {},
   "outputs": [
    {
     "name": "stdout",
     "output_type": "stream",
     "text": [
      "Tổng tất cả (đề bài cho tất cả là số) :  19\n"
     ]
    },
    {
     "data": {
      "text/plain": [
       "0"
      ]
     },
     "execution_count": 29,
     "metadata": {},
     "output_type": "execute_result"
    }
   ],
   "source": [
    "def f(*a,**kwa):\n",
    "    return sum(a) + sum(kwa.values())\n",
    "\n",
    "print('Tổng tất cả (đề bài cho tất cả là số) : ', f(1,2,3,4,a=2,b=3,c=4))\n",
    "f()"
   ]
  },
  {
   "cell_type": "code",
   "execution_count": 30,
   "metadata": {},
   "outputs": [
    {
     "data": {
      "text/plain": [
       "28.2743"
      ]
     },
     "execution_count": 30,
     "metadata": {},
     "output_type": "execute_result"
    }
   ],
   "source": [
    "import math\n",
    "\n",
    "class Circle:\n",
    "    \n",
    "    def __init__(self, r):\n",
    "        self.r = r\n",
    "        \n",
    "    def area(self):\n",
    "        return math.pi*(self.r**2)\n",
    "    \n",
    "c = Circle(3)\n",
    "round(c.area(),4)"
   ]
  },
  {
   "cell_type": "code",
   "execution_count": 31,
   "metadata": {},
   "outputs": [
    {
     "name": "stdout",
     "output_type": "stream",
     "text": [
      "1 3 5 7 9 11 13 15 17\n",
      "1 3 5 7 9 11 13 15 17 19\n"
     ]
    }
   ],
   "source": [
    "# đề bài không yêu cầu nhưng nếu bao gồm n thì dùng n+1, nếu không gồm n thì dùng n, oddGenerator sẽ không bao gồm n\n",
    "def oddGenerator(n):\n",
    "    i = 1\n",
    "    while i < n:        \n",
    "        yield i\n",
    "        i += 2\n",
    "        \n",
    "print(*oddGenerator(19))\n",
    "print(*oddGenerator(20))"
   ]
  },
  {
   "cell_type": "code",
   "execution_count": null,
   "metadata": {},
   "outputs": [],
   "source": []
  }
 ],
 "metadata": {
  "kernelspec": {
   "display_name": "Python 3",
   "language": "python",
   "name": "python3"
  },
  "language_info": {
   "codemirror_mode": {
    "name": "ipython",
    "version": 3
   },
   "file_extension": ".py",
   "mimetype": "text/x-python",
   "name": "python",
   "nbconvert_exporter": "python",
   "pygments_lexer": "ipython3",
   "version": "3.6.4"
  }
 },
 "nbformat": 4,
 "nbformat_minor": 2
}
