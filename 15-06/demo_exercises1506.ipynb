{
 "cells": [
  {
   "cell_type": "code",
   "execution_count": 103,
   "metadata": {},
   "outputs": [],
   "source": [
    "dict1 = {'a': 1, 'b' : 3,  'c' : 2,'d':4}\n",
    "dict2 = {}"
   ]
  },
  {
   "cell_type": "code",
   "execution_count": 104,
   "metadata": {},
   "outputs": [
    {
     "name": "stdout",
     "output_type": "stream",
     "text": [
      "not empty dict\n",
      "empty dict\n"
     ]
    }
   ],
   "source": [
    "if dict1:\n",
    "    print(\"not empty dict\")\n",
    "else:\n",
    "    print(\"empty dict\")\n",
    "    \n",
    "if not dict2:\n",
    "    print(\"empty dict\")\n",
    "else:\n",
    "    print(\"not empty dict\")"
   ]
  },
  {
   "cell_type": "code",
   "execution_count": 105,
   "metadata": {},
   "outputs": [],
   "source": [
    "vals1 = dict1.values()\n",
    "vals2 = dict2.values()"
   ]
  },
  {
   "cell_type": "code",
   "execution_count": 106,
   "metadata": {},
   "outputs": [
    {
     "name": "stdout",
     "output_type": "stream",
     "text": [
      "Max =  4\n",
      "Min =  1\n",
      "Empty dict\n"
     ]
    }
   ],
   "source": [
    "if vals1:\n",
    "    print('Max = ',max(vals1))\n",
    "    print('Min = ',min(vals1))\n",
    "else :\n",
    "    print(\"Empty dict\")\n",
    "    \n",
    "if not vals2 :\n",
    "    print(\"Empty dict\")"
   ]
  },
  {
   "cell_type": "code",
   "execution_count": 107,
   "metadata": {},
   "outputs": [
    {
     "name": "stdout",
     "output_type": "stream",
     "text": [
      " --- --- --- --- --- --- --- --- ---\n",
      "|   | 5 |   | 4 | 1 | 2 |   |   |   |\n",
      " --- --- --- --- --- --- --- --- ---\n",
      "|   |   | 5 | 5 |   |   | 1 | 6 | 2 |\n",
      " --- --- --- --- --- --- --- --- ---\n",
      "|   |   | 5 | 1 |   | 3 |   |   |   |\n",
      " --- --- --- --- --- --- --- --- ---\n",
      "|   | 3 |   |   |   | 5 |   |   |   |\n",
      " --- --- --- --- --- --- --- --- ---\n",
      "| 2 |   |   | 6 |   |   |   | 2 |   |\n",
      " --- --- --- --- --- --- --- --- ---\n",
      "|   | 2 |   | 4 |   |   |   |   |   |\n",
      " --- --- --- --- --- --- --- --- ---\n",
      "|   |   | 2 |   |   |   |   |   |   |\n",
      " --- --- --- --- --- --- --- --- ---\n",
      "|   | 5 | 4 | 3 |   | 2 |   |   |   |\n",
      " --- --- --- --- --- --- --- --- ---\n",
      "|   |   |   |   |   |   | 6 |   |   |\n",
      " --- --- --- --- --- --- --- --- ---\n"
     ]
    }
   ],
   "source": [
    "import random\n",
    "\n",
    "def draw(n):\n",
    "    \n",
    "    a = n * \" ---\" \n",
    "    \n",
    "    # nếu dùng random.choice thì set rlist\n",
    "    rlist = [0,0,0,0,0,0,0,0,0,0,0,0,0,1,2,3,4,5,6]\n",
    "    \n",
    "    for i in range(n): \n",
    "        print(a)\n",
    "        for j in range(n):\n",
    "            r = random.randint(0,21)\n",
    "            # hoặc có thể dùng random.choice\n",
    "            r = random.choice(rlist)\n",
    "            if r==0 or r>6: \n",
    "                print(\"|   \", end='')\n",
    "            else: print(\"|\",r, end=' ')\n",
    "        print ('|')\n",
    "    print(a)\n",
    "    \n",
    "draw(9)"
   ]
  },
  {
   "cell_type": "code",
   "execution_count": null,
   "metadata": {},
   "outputs": [],
   "source": []
  }
 ],
 "metadata": {
  "kernelspec": {
   "display_name": "Python 3",
   "language": "python",
   "name": "python3"
  },
  "language_info": {
   "codemirror_mode": {
    "name": "ipython",
    "version": 3
   },
   "file_extension": ".py",
   "mimetype": "text/x-python",
   "name": "python",
   "nbconvert_exporter": "python",
   "pygments_lexer": "ipython3",
   "version": "3.6.5"
  }
 },
 "nbformat": 4,
 "nbformat_minor": 2
}
